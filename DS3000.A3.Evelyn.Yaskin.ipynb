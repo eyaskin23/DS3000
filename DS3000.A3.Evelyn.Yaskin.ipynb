{
 "cells": [
  {
   "cell_type": "markdown",
   "metadata": {},
   "source": [
    "# DS 3000 - Assignment [3]\n",
    "\n",
    "**Student Name**: Evelyn Yaskin\n",
    "\n",
    "**Date**: 1/26/2024\n",
    "\n",
    "\n",
    "### Submission Instructions\n",
    "Submit this `ipynb` file to canvas.\n",
    "\n",
    "The `ipynb` format stores outputs from the last time you ran the notebook.  (When you open a notebook it has the figures and outputs of the last time you ran it too).  To ensure that your submitted `ipynb` file represents your latest code, make sure to give a fresh run `Kernel > Restart & Run All` just before uploading the `ipynb` file to Canvas.\n",
    "\n",
    "### Academic Integrity\n",
    "\n",
    "**Writing your homework is an individual effort.**  You may discuss general python problems with other students but under no circumstances should you observe another student's code which was written for this assignment, from this year or past years.  Pop into office hours or DM us in MS Teams if you have a specific question about your work or if you would like another pair of eyes or talk through your code.\n",
    "\n",
    "Don't forget to cite websites which helped you solve a problem in a unique way.  You can do this in markdown near the code or with a simple one-line comment. You do not need to cite the official python documentation.\n",
    "\n",
    "**Documentation / style counts for credit**  Please refer to the Pep-8 style, to improve the readability and consistency of your Python code. For more information, read the following article [How to Write Beautiful Python Code With PEP 8](https://realpython.com/python-pep8/) or ask your TA's for tips.\n",
    "\n",
    "**NOTE:<span style='color:red'> Write python expressions to answer ALL questions below and ensure that you use the `print()` function to display the output.</span>** Each question should be answered in a new code cell. For example, your solution for question 1.1 should be in a different code cell from your solution for question 1.2."
   ]
  },
  {
   "cell_type": "markdown",
   "metadata": {},
   "source": [
    "## Question 1: \n",
    "\n",
    "TODO: Copy/Paste the instructions for this question.\n"
   ]
  },
  {
   "cell_type": "code",
   "execution_count": 9,
   "metadata": {
    "scrolled": false
   },
   "outputs": [
    {
     "name": "stdout",
     "output_type": "stream",
     "text": [
      "low,age,lwt,race,smoke,ptl,ht,ui,ftv,bwt\n",
      "0,19,182,2,0,0,0,1,0,2523\n",
      "0,33,155,3,0,0,0,0,3,2551\n",
      "0,20,105,1,1,0,0,0,1,2557\n",
      "0,21,108,1,1,0,0,1,2,2594\n",
      "0,18,107,1,1,0,0,1,0,2600\n",
      "0,21,124,3,0,0,0,0,0,2622\n",
      "0,22,118,1,0,0,0,0,1,2637\n",
      "0,17,103,3,0,0,0,0,1,2637\n",
      "0,29,123,1,1,0,0,0,1,2663\n",
      "0,26,113,1,1,0,0,0,0,2665\n",
      "0,19,95,3,0,0,0,0,0,2722\n",
      "0,19,150,3,0,0,0,0,1,2733\n",
      "0,22,95,3,0,0,1,0,0,2751\n",
      "0,30,107,3,0,1,0,1,2,2750\n",
      "0,18,100,1,1,0,0,0,0,2769\n",
      "0,18,100,1,1,0,0,0,0,2769\n",
      "0,15,98,2,0,0,0,0,0,2778\n",
      "0,25,118,1,1,0,0,0,3,2782\n",
      "0,20,120,3,0,0,0,1,0,2807\n",
      "0,28,120,1,1,0,0,0,1,2821\n",
      "0,32,121,3,0,0,0,0,2,2835\n",
      "0,31,100,1,0,0,0,1,3,2835\n",
      "0,36,202,1,0,0,0,0,1,2836\n",
      "0,28,120,3,0,0,0,0,0,2863\n",
      "0,25,120,3,0,0,0,1,2,2877\n",
      "0,28,167,1,0,0,0,0,0,2877\n",
      "0,17,122,1,1,0,0,0,0,2906\n",
      "0,29,150,1,0,0,0,0,2,2920\n",
      "0,26,168,2,1,0,0,0,0,2920\n",
      "0,17,113,2,0,0,0,0,1,2920\n",
      "0,17,113,2,0,0,0,0,1,2920\n",
      "0,24,90,1,1,1,0,0,1,2948\n",
      "0,35,121,2,1,1,0,0,1,2948\n",
      "0,25,155,1,0,0,0,0,1,2977\n",
      "0,25,125,2,0,0,0,0,0,2977\n",
      "0,29,140,1,1,0,0,0,2,2977\n",
      "0,19,138,1,1,0,0,0,2,2977\n",
      "0,27,124,1,1,0,0,0,0,2922\n",
      "0,31,215,1,1,0,0,0,2,3005\n",
      "0,33,109,1,1,0,0,0,1,3033\n",
      "0,21,185,2,1,0,0,0,2,3042\n",
      "0,19,189,1,0,0,0,0,2,3062\n",
      "0,23,130,2,0,0,0,0,1,3062\n",
      "0,21,160,1,0,0,0,0,0,3062\n",
      "0,18,90,1,1,0,0,1,0,3062\n",
      "0,18,90,1,1,0,0,1,0,3062\n",
      "0,32,132,1,0,0,0,0,4,3080\n",
      "0,19,132,3,0,0,0,0,0,3090\n",
      "0,24,115,1,0,0,0,0,2,3090\n",
      "0,22,85,3,1,0,0,0,0,3090\n",
      "0,22,120,1,0,0,1,0,1,3100\n",
      "0,23,128,3,0,0,0,0,0,3104\n",
      "0,22,130,1,1,0,0,0,0,3132\n",
      "0,30,95,1,1,0,0,0,2,3147\n",
      "0,19,115,3,0,0,0,0,0,3175\n",
      "0,16,110,3,0,0,0,0,0,3175\n",
      "0,21,110,3,1,0,0,1,0,3203\n",
      "0,30,153,3,0,0,0,0,0,3203\n",
      "0,20,103,3,0,0,0,0,0,3203\n",
      "0,17,119,3,0,0,0,0,0,3225\n",
      "0,17,119,3,0,0,0,0,0,3225\n",
      "0,23,119,3,0,0,0,0,2,3232\n",
      "0,24,110,3,0,0,0,0,0,3232\n",
      "0,28,140,1,0,0,0,0,0,3234\n",
      "0,26,133,3,1,2,0,0,0,3260\n",
      "0,20,169,3,0,1,0,1,1,3274\n",
      "0,24,115,3,0,0,0,0,2,3274\n",
      "0,28,250,3,1,0,0,0,6,3303\n",
      "0,20,141,1,0,2,0,1,1,3317\n",
      "0,22,158,2,0,1,0,0,2,3317\n",
      "0,22,112,1,1,2,0,0,0,3317\n",
      "0,31,150,3,1,0,0,0,2,3321\n",
      "0,23,115,3,1,0,0,0,1,3331\n",
      "0,16,112,2,0,0,0,0,0,3374\n",
      "0,16,135,1,1,0,0,0,0,3374\n",
      "0,18,229,2,0,0,0,0,0,3402\n",
      "0,25,140,1,0,0,0,0,1,3416\n",
      "0,32,134,1,1,1,0,0,4,3430\n",
      "0,20,121,2,1,0,0,0,0,3444\n",
      "0,23,190,1,0,0,0,0,0,3459\n",
      "0,22,131,1,0,0,0,0,1,3460\n",
      "0,32,170,1,0,0,0,0,0,3473\n",
      "0,30,110,3,0,0,0,0,0,3544\n",
      "0,20,127,3,0,0,0,0,0,3487\n",
      "0,23,123,3,0,0,0,0,0,3544\n",
      "0,17,120,3,1,0,0,0,0,3572\n",
      "0,19,105,3,0,0,0,0,0,3572\n",
      "0,23,130,1,0,0,0,0,0,3586\n",
      "0,36,175,1,0,0,0,0,0,3600\n",
      "0,22,125,1,0,0,0,0,1,3614\n",
      "0,24,133,1,0,0,0,0,0,3614\n",
      "0,21,134,3,0,0,0,0,2,3629\n",
      "0,19,235,1,1,0,1,0,0,3629\n",
      "0,25,95,1,1,3,0,1,0,3637\n",
      "0,16,135,1,1,0,0,0,0,3643\n",
      "0,29,135,1,0,0,0,0,1,3651\n",
      "0,29,154,1,0,0,0,0,1,3651\n",
      "0,19,147,1,1,0,0,0,0,3651\n",
      "0,19,147,1,1,0,0,0,0,3651\n",
      "0,30,137,1,0,0,0,0,1,3699\n",
      "0,24,110,1,0,0,0,0,1,3728\n",
      "0,19,184,1,1,0,1,0,0,3756\n",
      "0,24,110,3,0,1,0,0,0,3770\n",
      "0,23,110,1,0,0,0,0,1,3770\n",
      "0,20,120,3,0,0,0,0,0,3770\n",
      "0,25,241,2,0,0,1,0,0,3790\n",
      "0,30,112,1,0,0,0,0,1,3799\n",
      "0,22,169,1,0,0,0,0,0,3827\n",
      "0,18,120,1,1,0,0,0,2,3856\n",
      "0,16,170,2,0,0,0,0,4,3860\n",
      "0,32,186,1,0,0,0,0,2,3860\n",
      "0,18,120,3,0,0,0,0,1,3884\n",
      "0,29,130,1,1,0,0,0,2,3884\n",
      "0,33,117,1,0,0,0,1,1,3912\n",
      "0,20,170,1,1,0,0,0,0,3940\n",
      "0,28,134,3,0,0,0,0,1,3941\n",
      "0,14,135,1,0,0,0,0,0,3941\n",
      "0,28,130,3,0,0,0,0,0,3969\n",
      "0,25,120,1,0,0,0,0,2,3983\n",
      "0,16,95,3,0,0,0,0,1,3997\n",
      "0,20,158,1,0,0,0,0,1,3997\n",
      "0,26,160,3,0,0,0,0,0,4054\n",
      "0,21,115,1,0,0,0,0,1,4054\n",
      "0,22,129,1,0,0,0,0,0,4111\n",
      "0,25,130,1,0,0,0,0,2,4153\n",
      "0,31,120,1,0,0,0,0,2,4167\n",
      "0,35,170,1,0,1,0,0,1,4174\n",
      "0,19,120,1,1,0,0,0,0,4238\n",
      "0,24,116,1,0,0,0,0,1,4593\n",
      "0,45,123,1,0,0,0,0,1,4990\n",
      "1,28,120,3,1,1,0,1,0,709\n",
      "1,29,130,1,0,0,0,1,2,1021\n",
      "1,34,187,2,1,0,1,0,0,1135\n",
      "1,25,105,3,0,1,1,0,0,1330\n",
      "1,25,85,3,0,0,0,1,0,1474\n",
      "1,27,150,3,0,0,0,0,0,1588\n",
      "1,23,97,3,0,0,0,1,1,1588\n",
      "1,24,128,2,0,1,0,0,1,1701\n",
      "1,24,132,3,0,0,1,0,0,1729\n",
      "1,21,165,1,1,0,1,0,1,1790\n",
      "1,32,105,1,1,0,0,0,0,1818\n",
      "1,19,91,1,1,2,0,1,0,1885\n",
      "1,25,115,3,0,0,0,0,0,1893\n",
      "1,16,130,3,0,0,0,0,1,1899\n",
      "1,25,92,1,1,0,0,0,0,1928\n",
      "1,20,150,1,1,0,0,0,2,1928\n",
      "1,21,200,2,0,0,0,1,2,1928\n",
      "1,24,155,1,1,1,0,0,0,1936\n",
      "1,21,103,3,0,0,0,0,0,1970\n",
      "1,20,125,3,0,0,0,1,0,2055\n",
      "1,25,89,3,0,2,0,0,1,2055\n",
      "1,19,102,1,0,0,0,0,2,2082\n",
      "1,19,112,1,1,0,0,1,0,2084\n",
      "1,26,117,1,1,1,0,0,0,2084\n",
      "1,24,138,1,0,0,0,0,0,2100\n",
      "1,17,130,3,1,1,0,1,0,2125\n",
      "1,20,120,2,1,0,0,0,3,2126\n",
      "1,22,130,1,1,1,0,1,1,2187\n",
      "1,27,130,2,0,0,0,1,0,2187\n",
      "1,20,80,3,1,0,0,1,0,2211\n",
      "1,17,110,1,1,0,0,0,0,2225\n",
      "1,25,105,3,0,1,0,0,1,2240\n",
      "1,20,109,3,0,0,0,0,0,2240\n",
      "1,18,148,3,0,0,0,0,0,2282\n",
      "1,18,110,2,1,1,0,0,0,2296\n",
      "1,20,121,1,1,1,0,1,0,2296\n",
      "1,21,100,3,0,1,0,0,4,2301\n",
      "1,26,96,3,0,0,0,0,0,2325\n",
      "1,31,102,1,1,1,0,0,1,2353\n",
      "1,15,110,1,0,0,0,0,0,2353\n",
      "1,23,187,2,1,0,0,0,1,2367\n",
      "1,20,122,2,1,0,0,0,0,2381\n",
      "1,24,105,2,1,0,0,0,0,2381\n",
      "1,15,115,3,0,0,0,1,0,2381\n",
      "1,23,120,3,0,0,0,0,0,2410\n",
      "1,30,142,1,1,1,0,0,0,2410\n",
      "1,22,130,1,1,0,0,0,1,2410\n",
      "1,17,120,1,1,0,0,0,3,2414\n",
      "1,23,110,1,1,1,0,0,0,2424\n",
      "1,17,120,2,0,0,0,0,2,2438\n",
      "1,26,154,3,0,1,1,0,1,2442\n",
      "1,20,105,3,0,0,0,0,3,2450\n",
      "1,26,190,1,1,0,0,0,0,2466\n",
      "1,14,101,3,1,1,0,0,0,2466\n",
      "1,28,95,1,1,0,0,0,2,2466\n",
      "1,14,100,3,0,0,0,0,2,2495\n",
      "1,23,94,3,1,0,0,0,0,2495\n",
      "1,17,142,2,0,0,1,0,0,2495\n",
      "1,21,130,1,1,0,1,0,3,2495\n"
     ]
    }
   ],
   "source": [
    "#1.1 Load the attached data into a numpy array and display the dimensions of the data.\n",
    "file_name = 'birthwt.csv'\n",
    "fh = open(file_name, mode='r')\n",
    "data = fh.read()\n",
    "fh.close()\n",
    "\n",
    "print(data)"
   ]
  },
  {
   "cell_type": "code",
   "execution_count": 8,
   "metadata": {},
   "outputs": [
    {
     "name": "stdout",
     "output_type": "stream",
     "text": [
      "The age range of mothers is: 14 to 45 , with an average of 23\n"
     ]
    }
   ],
   "source": [
    "import csv\n",
    "\n",
    "with open('birthwt.csv', 'r') as fh:\n",
    "    data = fh.readlines()\n",
    "    reader = csv.DictReader(data) #used link for reference (as pasted at the bottom)\n",
    "    ages = [int(row['age']) for row in reader]\n",
    "\n",
    "min_age = min(ages)\n",
    "avg_age = sum(ages) / len(ages)\n",
    "max_age = max(ages)\n",
    "\n",
    "print(\"The age range of mothers is:\", int(min_age), \"to\", int(max_age), \", with an average of\", int(avg_age))"
   ]
  },
  {
   "cell_type": "code",
   "execution_count": 7,
   "metadata": {},
   "outputs": [
    {
     "name": "stdout",
     "output_type": "stream",
     "text": [
      "Number of mothers who smoked during pregnancy: 74\n"
     ]
    }
   ],
   "source": [
    "#1.3 How many mothers smoked during pregnancy?\n",
    "\n",
    "import numpy as np\n",
    "smokers = df['smoke']\n",
    "print(\"Number of mothers who smoked during pregnancy:\", np.count_nonzero(smokers))"
   ]
  },
  {
   "cell_type": "code",
   "execution_count": 8,
   "metadata": {},
   "outputs": [
    {
     "name": "stdout",
     "output_type": "stream",
     "text": [
      "Number of mothers with a history of hypertension: 12\n"
     ]
    }
   ],
   "source": [
    "#1.4 How many mothers had a history of hypertension?\n",
    "\n",
    "ht = df['ht']\n",
    "print(\"Number of mothers with a history of hypertension:\", np.count_nonzero(ht))"
   ]
  },
  {
   "cell_type": "code",
   "execution_count": 22,
   "metadata": {},
   "outputs": [
    {
     "name": "stdout",
     "output_type": "stream",
     "text": [
      "Number of mothers with one of more premature births: 30\n"
     ]
    }
   ],
   "source": [
    "#1.5 How many mothers have 1 or more premature births?\n",
    "\n",
    "ptl = df['ptl']\n",
    "print(\"Number of mothers with one of more premature births:\", np.count_nonzero(ptl))"
   ]
  },
  {
   "cell_type": "code",
   "execution_count": 10,
   "metadata": {},
   "outputs": [
    {
     "name": "stdout",
     "output_type": "stream",
     "text": [
      "[0.01, 0.18]\n"
     ]
    }
   ],
   "source": [
    "#1.6 Create a function called convert_birthweight() that\n",
    "# 1) takes grams as input, 2) converts grams to pounds and ounces, and 3) return the converted value. \n",
    "\n",
    "def convert_birthweight(g):\n",
    "    lb = round(g / 453.592, 2)\n",
    "    o = round(g / 28.3495, 2)\n",
    "    out = [lb, o]\n",
    "    return out\n",
    "\n",
    "print(convert_birthweight(5))"
   ]
  },
  {
   "cell_type": "code",
   "execution_count": 11,
   "metadata": {},
   "outputs": [
    {
     "name": "stdout",
     "output_type": "stream",
     "text": [
      "Average Birth Weight for mothers with premature labors: 2496.29\n"
     ]
    }
   ],
   "source": [
    "#1.7 What is the average birth weight of babies whose mothers have a history of premature birth? \n",
    "\n",
    "ptl_births = df[df['ptl'] == 1]\n",
    "birth_weights = ptl_births['bwt']\n",
    "avg_bwt = round(birth_weights.mean(), 2)\n",
    "print(\"Average Birth Weight for mothers with premature labors:\", avg_bwt)"
   ]
  },
  {
   "cell_type": "code",
   "execution_count": 14,
   "metadata": {
    "scrolled": true
   },
   "outputs": [
    {
     "name": "stdout",
     "output_type": "stream",
     "text": [
      "Minimum Birth Weight: 1021\n",
      "Average Birth Weight: 3055.7\n",
      "Maximum Birth Weight: 4990\n"
     ]
    }
   ],
   "source": [
    "#1.8 What is the minimum, average and maximum birth weight of babies \n",
    "# whose mother did not smoke during pregnancy and do not have a history of hypertension?\n",
    "\n",
    "false_smoke_htl = df[(df['smoke'] == 0) & (df['ht'] == 0)]\n",
    "\n",
    "birth_weights = false_smoke_htl['bwt']\n",
    "\n",
    "def calculate_birth_weight(df, x, y):\n",
    "\n",
    "    data_row = df[df[x] == y]\n",
    "\n",
    "    birth_weights = data_row['bwt']\n",
    "\n",
    "    min_bwt = round(birth_weights.min(), 2)\n",
    "    avg_bwt = round(birth_weights.mean(), 2)\n",
    "    max_bwt = round(birth_weights.max(), 2)\n",
    "    \n",
    "    print(\"Minimum Birth Weight:\", min_bwt)\n",
    "    print(\"Average Birth Weight:\", avg_bwt)\n",
    "    print(\"Maximum Birth Weight:\", max_bwt)\n",
    "\n",
    "calculate_birth_weight(df, 'smoke', 0)"
   ]
  },
  {
   "cell_type": "code",
   "execution_count": 15,
   "metadata": {},
   "outputs": [
    {
     "name": "stdout",
     "output_type": "stream",
     "text": [
      "Minimum Birth Weight: 709\n",
      "Average Birth Weight: 2771.92\n",
      "Maximum Birth Weight: 4238\n"
     ]
    }
   ],
   "source": [
    "#1.9 What is the minimum, average and maximum birth weight of babies\n",
    "# whose mothers smoked during pregnancy?\n",
    "\n",
    "smoke_count = df[(df['smoke'] == 1)]\n",
    "birth_weights = smoke_count['bwt']\n",
    "calculate_birth_weight(df, 'smoke', 1)"
   ]
  },
  {
   "cell_type": "code",
   "execution_count": 16,
   "metadata": {},
   "outputs": [
    {
     "name": "stdout",
     "output_type": "stream",
     "text": [
      "Minimum Birth Weight: 1135\n",
      "Average Birth Weight: 2536.83\n",
      "Maximum Birth Weight: 3790\n"
     ]
    }
   ],
   "source": [
    "# 1.10 What is the minimum, average and maximum birth weight of babies whose \n",
    "# mothers had a history of hypertension? \n",
    "\n",
    "htl_count = df[(df['ht'] == 1)]\n",
    "birth_weights = htl_count['bwt']\n",
    "calculate_birth_weight(df, 'ht', 1)"
   ]
  },
  {
   "cell_type": "code",
   "execution_count": 17,
   "metadata": {},
   "outputs": [
    {
     "name": "stdout",
     "output_type": "stream",
     "text": [
      "Minimum Birth Weight: 1135\n",
      "Average Birth Weight: 2536.83\n",
      "Maximum Birth Weight: 3790\n"
     ]
    }
   ],
   "source": [
    "# 1.11 What is the minimum, average and maximum birth weight of babies whose mothers\n",
    "# smoked during pregnancy and had a history of hypertension? \n",
    "\n",
    "htl_and_smoke_count = df[(df['smoke'] == 1) & (df['ht'] == 1)]\n",
    "birth_weights = htl_count['bwt']\n",
    "calculate_birth_weight(df, 'ht', 1)"
   ]
  },
  {
   "cell_type": "code",
   "execution_count": 18,
   "metadata": {},
   "outputs": [],
   "source": [
    "# 1.12\n",
    "# I noticed that the average birth weight was higher with mothers\n",
    "# that did not smoke and did not have a history of hypertension, than those that did. \n",
    "# For example, the average birthweight with mothers that did not smoke and did not have a history of hypertension\n",
    "# was 3055.7, whereas with mothers that did smoke and had hypertension the birthweight was 2536.83.\n",
    "# I also noticed that the average birthweight mothers that had hypertension was slightly lower \n",
    "# than that with mothers that smoked. For example, the average birthweight in mothers that had a history of \n",
    "# hypertension was 2536.83, whereas in the mothers that smoked it was 2771.92. \n",
    "# Finally, I noticed that the greatest difference between the minimum birthweight and maximum birthweight was \n",
    "# in the mothers that smoked. The difference between the max and min was 3529. The highest maximum birthweight was \n",
    "# in mothers that did not smoke and did not have a history of hypertension: which was 4990, and the lowest maximum was \n",
    "# a tie between mothers who smoked during pregnancy and a history of hypertension, and between a history of mothers with just hypertension."
   ]
  },
  {
   "cell_type": "markdown",
   "metadata": {},
   "source": [
    "## Helpful resources \n",
    "Don't forget to cite websites which helped you solve a problem in a unique way.  You can do this in markdown near the code or with a simple one-line comment inside the code cell, or you can list them below. \n",
    "\n",
    "You do not need to cite the official python documentation.\n",
    "\n",
    "https://www.programiz.com/python-programming/numpy/methods/average#:~:text=average()%20Arguments-,The%20numpy.,int%20or%20tuple%20of%20int%20)\n",
    "\n",
    "https://docs.python.org/3/library/csv.html\n"
   ]
  }
 ],
 "metadata": {
  "kernelspec": {
   "display_name": "Python 3 (ipykernel)",
   "language": "python",
   "name": "python3"
  },
  "language_info": {
   "codemirror_mode": {
    "name": "ipython",
    "version": 3
   },
   "file_extension": ".py",
   "mimetype": "text/x-python",
   "name": "python",
   "nbconvert_exporter": "python",
   "pygments_lexer": "ipython3",
   "version": "3.11.5"
  }
 },
 "nbformat": 4,
 "nbformat_minor": 4
}
